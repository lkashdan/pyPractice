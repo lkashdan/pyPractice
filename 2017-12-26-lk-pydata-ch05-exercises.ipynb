{
 "cells": [
  {
   "cell_type": "markdown",
   "metadata": {},
   "source": [
    "## Chapter 5 conceived exercise\n",
    "\n",
    "With no exercises from Wes McKinney's 'Python for Data Analysis', here is a practice problem."
   ]
  },
  {
   "cell_type": "markdown",
   "metadata": {},
   "source": [
    "### Problem 1 - Single Variable Derivative Table\n",
    "\n",
    "Build a function that will take in a polynomial as a string, an input x for f(x) and an integer y which will calculate all derivatives at or smaller than y down to 1. Display the derivative functions and their evaluations\n",
    "\n",
    "  *For example, if the function takes in '$x^3$' as the polynomial, 3 for x and 2 for y, then the function should return a table that resembles this:\n",
    "  \n",
    "  <table>\n",
    "  <tr>\n",
    "    <th>Order of Derivative</th>\n",
    "    <th>0</th>\n",
    "    <th>1</th>\n",
    "    <th>2</th>\n",
    "  </tr>\n",
    "  <tr>\n",
    "    <td>Function</td>\n",
    "    <td>$x^3$</td>\n",
    "    <td>$3x^2$</td>\n",
    "    <td>$6x$</td>\n",
    "  </tr>\n",
    "  <tr>\n",
    "    <td>f(3)</td>\n",
    "    <td>27</td>\n",
    "    <td>27</td>\n",
    "    <td>18</td>\n",
    "  </tr>\n",
    "</table>"
   ]
  },
  {
   "cell_type": "code",
   "execution_count": 109,
   "metadata": {
    "collapsed": true
   },
   "outputs": [],
   "source": [
    "import numpy as np\n",
    "import pandas as pd\n",
    "from pandas import Series, DataFrame"
   ]
  },
  {
   "cell_type": "markdown",
   "metadata": {},
   "source": [
    "#### Step 1 - build function to differentiate an inputed polynomial\n",
    "    "
   ]
  },
  {
   "cell_type": "code",
   "execution_count": 110,
   "metadata": {},
   "outputs": [
    {
     "data": {
      "text/plain": [
       "{0: ([2, 2, 1, 0], 26.0), 1: ([6, 4, 1], 33.0), 2: ([12, 4], 28.0)}"
      ]
     },
     "execution_count": 110,
     "metadata": {},
     "output_type": "execute_result"
    }
   ],
   "source": [
    "#use numpy.polyder to derive polynomials\n",
    "\n",
    "def derComputations(polynomial, derivatives, funcInput):\n",
    "    '''polynomial will inputed as poly1d object and derivatives will take an integer indicating the number of differentiations\n",
    "    to perform'''\n",
    "    derFunctions = dict()\n",
    "    \n",
    "    #start by evaluating the original function\n",
    "    counter = 0\n",
    "    \n",
    "    polynomial = np.polyder(np.poly1d(polynomial), 0)\n",
    "    \n",
    "    evaluation = polynomial(funcInput)\n",
    "    \n",
    "    derFunctions[counter] = (list(polynomial), evaluation)\n",
    "    \n",
    "    counter += 1\n",
    "    \n",
    "    while derivatives > 0:\n",
    "        #by default, polyder will return the 1st derivative.\n",
    "        polynomial = np.polyder(polynomial)\n",
    "        \n",
    "        evaluation = polynomial(funcInput)\n",
    "        \n",
    "        derFunctions[counter] = (list(polynomial), evaluation)\n",
    "               \n",
    "        derivatives -= 1\n",
    "        \n",
    "        counter += 1\n",
    "    \n",
    "    return derFunctions\n",
    "\n",
    "derComputations([2,2,1,0], 2, 2.)\n"
   ]
  },
  {
   "cell_type": "markdown",
   "metadata": {},
   "source": [
    "#### Step 2 - output as a Pandas Dataframe"
   ]
  },
  {
   "cell_type": "code",
   "execution_count": 111,
   "metadata": {},
   "outputs": [
    {
     "data": {
      "text/html": [
       "<div>\n",
       "<table border=\"1\" class=\"dataframe\">\n",
       "  <thead>\n",
       "    <tr style=\"text-align: right;\">\n",
       "      <th>Order of Derivatives</th>\n",
       "      <th>0</th>\n",
       "      <th>1</th>\n",
       "      <th>2</th>\n",
       "    </tr>\n",
       "  </thead>\n",
       "  <tbody>\n",
       "    <tr>\n",
       "      <th>Function</th>\n",
       "      <td>[2, 2, 1]</td>\n",
       "      <td>[4, 2]</td>\n",
       "      <td>[4]</td>\n",
       "    </tr>\n",
       "    <tr>\n",
       "      <th>f(1.76)</th>\n",
       "      <td>10.7152</td>\n",
       "      <td>9.04</td>\n",
       "      <td>4</td>\n",
       "    </tr>\n",
       "  </tbody>\n",
       "</table>\n",
       "</div>"
      ],
      "text/plain": [
       "Order of Derivatives          0       1    2\n",
       "Function              [2, 2, 1]  [4, 2]  [4]\n",
       "f(1.76)                 10.7152    9.04    4"
      ]
     },
     "execution_count": 111,
     "metadata": {},
     "output_type": "execute_result"
    }
   ],
   "source": [
    "#create display with pandas dataframe\n",
    "\n",
    "def pdDisplay(polynomial, derivatives, funcInput):\n",
    "    '''fully display the results in a dataframe using work from derComputations()'''\n",
    "    \n",
    "    computations = derComputations(polynomial, derivatives, funcInput)\n",
    "    \n",
    "    display = pd.DataFrame(computations, index = ['Function', 'f(' + str(funcInput) + ')'])\n",
    "    \n",
    "    display.columns.name = 'Order of Derivatives'\n",
    "    \n",
    "    \n",
    "    return display\n",
    "\n",
    "pdDisplay([2,2,1], 2, 1.76)\n",
    "    "
   ]
  }
 ],
 "metadata": {
  "kernelspec": {
   "display_name": "Python 3",
   "language": "python",
   "name": "python3"
  },
  "language_info": {
   "codemirror_mode": {
    "name": "ipython",
    "version": 3
   },
   "file_extension": ".py",
   "mimetype": "text/x-python",
   "name": "python",
   "nbconvert_exporter": "python",
   "pygments_lexer": "ipython3",
   "version": "3.6.3"
  }
 },
 "nbformat": 4,
 "nbformat_minor": 2
}
