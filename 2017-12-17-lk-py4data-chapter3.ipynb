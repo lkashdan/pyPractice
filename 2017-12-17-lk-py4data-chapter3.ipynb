{
 "cells": [
  {
   "cell_type": "markdown",
   "metadata": {},
   "source": [
    "## Practice Problems for working with chapter 3 topics\n",
    "\n",
    "\n",
    "### Problem 1 - Build 100 arrays that each contain 100 strings. Construct each string to receive a random lowercase letter. Then find out which arrays did not produce a string w/ the letter 'h'. For all the arrays, find the most frequent letter represented inside one array and find how many times it was represented."
   ]
  },
  {
   "cell_type": "code",
   "execution_count": 41,
   "metadata": {},
   "outputs": [],
   "source": [
    "import string\n",
    "import random\n",
    "from collections import Counter\n",
    "\n",
    "#generate 100 strings and count how many of each letter. \n",
    "def stringLetters():\n",
    "    '''outputs a dictionary of how many of each lower case letter were produced from a list of 100 randomly selected letters'''\n",
    "    lowercaseStrings = string.ascii_lowercase\n",
    "    oneHundredStrings = []\n",
    "    for i in range(100):\n",
    "        oneHundredStrings.append(random.choice(lowercaseStrings))\n",
    "        \n",
    "    oneHundredDict = Counter(oneHundredStrings)\n",
    "        \n",
    "    return oneHundredDict\n",
    "\n",
    "#produce 100 of such lists\n",
    "dictList = [stringLetters() for i in range(100)]"
   ]
  },
  {
   "cell_type": "code",
   "execution_count": 42,
   "metadata": {},
   "outputs": [
    {
     "name": "stdout",
     "output_type": "stream",
     "text": [
      "[57, 86, 88, 93]\n"
     ]
    }
   ],
   "source": [
    "#Answer the first part of problem 1: Which arrays did not produce the string 'h'?\n",
    "\n",
    "noH = []\n",
    "for i, strings in enumerate(dictList):\n",
    "    if strings.setdefault('h', 0) == 0:\n",
    "        noH.append(i)\n",
    "        \n",
    "print(noH)"
   ]
  },
  {
   "cell_type": "code",
   "execution_count": 43,
   "metadata": {},
   "outputs": [
    {
     "name": "stdout",
     "output_type": "stream",
     "text": [
      "most frequent letter came up 11 times in array(s) [81]\n"
     ]
    }
   ],
   "source": [
    "#Answer the second part of problem 1: \n",
    "#For all the arrays, find the most frequent letter represented inside one array and find how many times it was represented.\n",
    "maxList = []\n",
    "for i, stringList in enumerate(dictList):\n",
    "    maxList.append([max(set(stringList.values())), i])    \n",
    "\n",
    "maxList.sort(reverse = True)\n",
    "    \n",
    "mostFrequent = maxList[0][0]\n",
    "\n",
    "mostFrequentArrays = []\n",
    "\n",
    "for item in maxList:\n",
    "    if item[0] == mostFrequent:\n",
    "        mostFrequentArrays.append(item[1])\n",
    "    else:\n",
    "        break\n",
    "\n",
    "print('most frequent letter came up {} times in array(s) {}'.format(mostFrequent, mostFrequentArrays))\n"
   ]
  },
  {
   "cell_type": "markdown",
   "metadata": {},
   "source": [
    "### Problem 2 - Take a piece of text and break it down into its words. From there, find the 5 most commonly used words. Then breakdown a second piece of text and find the 5 most common words in that text that weren't present in the first text"
   ]
  },
  {
   "cell_type": "code",
   "execution_count": 105,
   "metadata": {},
   "outputs": [
    {
     "data": {
      "text/plain": [
       "['hello', 'my', 'name', 'is', 'who', 'so', 'what']"
      ]
     },
     "execution_count": 105,
     "metadata": {},
     "output_type": "execute_result"
    }
   ],
   "source": [
    "#build function to break down text into individual words\n",
    "import re\n",
    "\n",
    "\n",
    "def textBreakdown(text):\n",
    "    '''breaks down a text into words and identifies how many times each word was used in the text.'''\n",
    "    text = text.lower()\n",
    "    text = re.sub('[!#?.,()/0123456789-=:;]'  ,'' , text)\n",
    "    text = text.strip()\n",
    "    text = text.split(' ')\n",
    "    \n",
    "        \n",
    "    return [x for x in text if len(x) > 0]\n",
    "\n",
    "\n",
    "textBreakdown('1. hello. My name is who. (so what)')"
   ]
  },
  {
   "cell_type": "code",
   "execution_count": 145,
   "metadata": {},
   "outputs": [
    {
     "name": "stdout",
     "output_type": "stream",
     "text": [
      "[[168, 'the'], [88, 'and'], [79, 'of'], [72, 'a'], [59, 'is']]\n"
     ]
    }
   ],
   "source": [
    "#I copy/pasted the preface to my linear algebra textbook into a text file. I am using it as the first text doc.\n",
    "#for each line in the text box, use textBreakdown() to break down the words in the doc. \n",
    "#Then combine the function's output to a master list which is ready to be fed into Counter.\n",
    "#The most common words are 1) the, 2) and, 3) of, 4) a, 5) is. Riveting. \n",
    "textPath = 'la_preface.txt'\n",
    "\n",
    "def top5Words(text, exclusionText = None):\n",
    "    '''function will take a piece of text, break it down into words, and then count each word and return the top 5 words.\n",
    "    will also return a set of the list of words used in the text.'''\n",
    "    file = open(text)\n",
    "\n",
    "    text1Lines = [textBreakdown(x) for x in file]\n",
    "\n",
    "    masterList = []\n",
    "\n",
    "    for line in text1Lines:\n",
    "        masterList.extend(line)\n",
    "        \n",
    "    if exclusionText != None:\n",
    "        \n",
    "        text1Dict = Counter(masterList)\n",
    "        \n",
    "        for word in exclusionText:\n",
    "            if word in text1Dict:\n",
    "                del text1Dict[word]\n",
    "                \n",
    "        printList = []\n",
    "        for word in text1Dict:\n",
    "            printList.append([text1Dict[word], word])\n",
    "\n",
    "        printList.sort(reverse = True, key = lambda x: x[0])\n",
    "                        \n",
    "        file.close()\n",
    "\n",
    "        return printList[0:5], masterList\n",
    "    \n",
    "    else:        \n",
    "        text1Dict = Counter(masterList)\n",
    "\n",
    "        printList = []\n",
    "        for word in text1Dict:\n",
    "            printList.append([text1Dict[word], word])\n",
    "\n",
    "        printList.sort(reverse = True, key = lambda x: x[0])\n",
    "        \n",
    "        file.close()\n",
    "\n",
    "        return printList[0:5], set(masterList)\n",
    "        \n",
    "\n",
    "top5, text1Words = top5Words(textPath)\n",
    "\n",
    "print(top5)\n",
    "\n",
    "\n"
   ]
  },
  {
   "cell_type": "code",
   "execution_count": 147,
   "metadata": {},
   "outputs": [
    {
     "name": "stdout",
     "output_type": "stream",
     "text": [
      "[[25, 'eigenvector'], [18, 'ai'], [17, 'p'], [16, 'o'], [15, \"a's\"]]\n"
     ]
    }
   ],
   "source": [
    "#for the second part of problem 2, going to take a section of the linear algebra text pertaining to eigenvalues.\n",
    "#let's see what cracks the top 5 when removing the top 5 words from the first text\n",
    "\n",
    "text2 = 'la_eigen.txt'\n",
    "\n",
    "top5Text2, text2Words = top5Words(text2, text1Words)\n",
    "\n",
    "print(top5Text2)\n"
   ]
  },
  {
   "cell_type": "markdown",
   "metadata": {},
   "source": [
    "### Problem 3 - produce a sequence of 3 item lists that contain three consecutive letters of the alphabet. Start at 'a' and end with 'z' so lists will like ['a', 'b', 'c'], ['b', 'c', 'd'], ['c', 'd', 'e'], etc.\n",
    "\n",
    "\n"
   ]
  },
  {
   "cell_type": "code",
   "execution_count": 149,
   "metadata": {},
   "outputs": [
    {
     "data": {
      "text/plain": [
       "[['a', 'b', 'c'],\n",
       " ['b', 'c', 'd'],\n",
       " ['c', 'd', 'e'],\n",
       " ['d', 'e', 'f'],\n",
       " ['e', 'f', 'g'],\n",
       " ['f', 'g', 'h'],\n",
       " ['g', 'h', 'i'],\n",
       " ['h', 'i', 'j'],\n",
       " ['i', 'j', 'k'],\n",
       " ['j', 'k', 'l'],\n",
       " ['k', 'l', 'm'],\n",
       " ['l', 'm', 'n'],\n",
       " ['m', 'n', 'o'],\n",
       " ['n', 'o', 'p'],\n",
       " ['o', 'p', 'q'],\n",
       " ['p', 'q', 'r'],\n",
       " ['q', 'r', 's'],\n",
       " ['r', 's', 't'],\n",
       " ['s', 't', 'u'],\n",
       " ['t', 'u', 'v'],\n",
       " ['u', 'v', 'w'],\n",
       " ['v', 'w', 'x'],\n",
       " ['w', 'x', 'y'],\n",
       " ['x', 'y', 'z']]"
      ]
     },
     "execution_count": 149,
     "metadata": {},
     "output_type": "execute_result"
    }
   ],
   "source": [
    "letters = string.ascii_lowercase\n",
    "\n",
    "[[letters[i], letters[i+1], letters[i+2]] for i in range(24)]"
   ]
  },
  {
   "cell_type": "markdown",
   "metadata": {},
   "source": [
    "### Problem 4 - rank top 8 NBA players by traditional positions and then group them into the top 8 starting teams. \n"
   ]
  },
  {
   "cell_type": "code",
   "execution_count": 154,
   "metadata": {},
   "outputs": [
    {
     "name": "stdout",
     "output_type": "stream",
     "text": [
      "('Cousins, D', 'Davis, A', 'James, L', 'Thompson, K', 'Curry, S')\n",
      "('Gasol, M', 'Green, D', 'Durant, K', 'Derozan, D', 'Harden, J')\n",
      "('Gobert, R', 'Griffin, B', 'Leonard, K', 'Beal, B', 'Paul, C')\n",
      "('Embiid, J', 'Porzingis, K', 'Antetokoumpo, G', 'Oladipo, V', 'Conley, M')\n",
      "('Drummond, A', 'Horford, A', 'George, P', 'McCollum, C', 'Irving, K')\n",
      "('Whiteside, H', 'Towns, K', 'Butler, J', 'Batum, N', 'Westbrook, R')\n",
      "('Capela, C', 'Love, K', 'Hayward, G', 'Wiggins, A', 'Wall, J')\n",
      "('Adams, S', 'Jokic, N', 'Porter, O', 'Booker, D', 'Lillard, D')\n"
     ]
    }
   ],
   "source": [
    "center = ('Cousins, D', 'Gasol, M','Gobert, R', 'Embiid, J', 'Drummond, A', 'Whiteside, H', 'Capela, C', 'Adams, S')\n",
    "\n",
    "powerF = ('Davis, A', 'Green, D', 'Griffin, B', 'Porzingis, K', 'Horford, A', 'Towns, K', 'Love, K', 'Jokic, N')\n",
    "\n",
    "smallF = ('James, L', 'Durant, K', 'Leonard, K','Antetokoumpo, G','George, P', 'Butler, J', 'Hayward, G', 'Porter, O')\n",
    "\n",
    "shootingG = ('Thompson, K', 'Derozan, D', 'Beal, B', 'Oladipo, V', 'McCollum, C', 'Batum, N', 'Wiggins, A', 'Booker, D' )\n",
    "\n",
    "pointG = ('Curry, S', 'Harden, J', 'Paul, C', 'Conley, M', 'Irving, K', 'Westbrook, R', 'Wall, J', 'Lillard, D')\n",
    "\n",
    "teams = list(zip(center, powerF, smallF, shootingG, pointG))\n",
    "\n",
    "for team in teams:\n",
    "    print(team)\n"
   ]
  },
  {
   "cell_type": "code",
   "execution_count": 156,
   "metadata": {},
   "outputs": [
    {
     "name": "stdout",
     "output_type": "stream",
     "text": [
      "Object `lambda` not found.\n"
     ]
    }
   ],
   "source": []
  },
  {
   "cell_type": "code",
   "execution_count": null,
   "metadata": {
    "collapsed": true
   },
   "outputs": [],
   "source": []
  }
 ],
 "metadata": {
  "kernelspec": {
   "display_name": "Python 3",
   "language": "python",
   "name": "python3"
  },
  "language_info": {
   "codemirror_mode": {
    "name": "ipython",
    "version": 3
   },
   "file_extension": ".py",
   "mimetype": "text/x-python",
   "name": "python",
   "nbconvert_exporter": "python",
   "pygments_lexer": "ipython3",
   "version": "3.6.3"
  }
 },
 "nbformat": 4,
 "nbformat_minor": 2
}
